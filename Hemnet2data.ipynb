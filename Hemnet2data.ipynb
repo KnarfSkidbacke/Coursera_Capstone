{
    "nbformat_minor": 1, 
    "cells": [
        {
            "source": "## Reformat data slutpriser laegenheter from Hemnet.se\ncreatedBy Frank Schliephacke, 2019", 
            "cell_type": "markdown", 
            "metadata": {
                "collapsed": true
            }
        }, 
        {
            "execution_count": 8, 
            "cell_type": "code", 
            "metadata": {}, 
            "outputs": [], 
            "source": "import numpy as np\nimport pandas as pd"
        }, 
        {
            "execution_count": 9, 
            "cell_type": "code", 
            "metadata": {}, 
            "outputs": [], 
            "source": "def hemnet2csv30(fn1, fn2):\n  # Version 3.0\n  #\n#L1 Fyrvaktarkroken 26\n#L2 Bostadsr\u00e4ttsl\u00e4genhet Bl\u00e5sut, Stockholm\n#L3 47 m\u00b2   2 rum\n#L4 3 133 kr/man\n#L5 Slutpris 3 100 000 kr\n#L6 S\u00e5ld 13 juli 2019\n#L7 95 652 kr/m\u00b2\n#L8 +19 %\n#L9 \n#L10 Fastighetsbyran Enskede\n  #\n  linelast = [\"\" for x in range(22)]\n  lc = -1\n  cnt = 0\n  with open(fn2,mode='w') as fout:\n    fout.write('Street,ApType,Area,Monthcost,Finalprice,Fpricesqm,dummy1,Estateagent')\n    fout.write(\"\\n\")\n    with open(fn1,mode='r') as f:\n      line  = f.readline() # read first line - dummy line / comment\n      line  = f.readline() # read second line - dummy line / comment\n      while line: # and cnt<5:\n        line  = f.readline()\n        #line  = f.readline().replace('\\n', '')\n        #lineRaw  = f.readline()\n        testline = line.strip()\n        #line  = lineRaw.replace('\\n', '')\n        #if testline.find('Slutpris')>=0:\n        #  print('TEST', cnt,' ',lc,' ',testline,' ',(testline.find('Slutpris')>=0),'TXT',line)\n        # \n        if (testline.find('Slutpris')>=0):\n          #lineout=line.strip()\n          #line6 = f.readline().replace('\\n', '')\n          #line7 = f.readline().replace('\\n', '')\n          #line8 = f.readline().replace('\\n', '')\n          #line9 = f.readline().replace('\\n', '')\n          #line10 = f.readline().replace('\\n', '')\n          #\n          #line6 = f.readline().strip()\n          #line7 = f.readline().strip()\n          #line8 = f.readline().strip()\n          #line9 = f.readline().strip()\n          #line10 = f.readline().strip()\n          #\n          lc +=1\n          linelast[lc] = line.strip()\n          linelast[lc+1] = f.readline().strip()\n          linelast[lc+2] = f.readline().strip()\n          linelast[lc+3] = f.readline().strip()\n          linelast[lc+4] = f.readline().strip()\n          #linelast[lc+5] = f.readline().strip()\n          #linelast[lc]= f.readline().replace('\\n', '')\n          #\n          for xc in range(lc+4+1):\n            #print(xc)\n            temptext=linelast[xc].split(' ')\n            if linelast[xc].find('Slutpris')>=0:\n              tmpstr=linelast[xc]\n              linelast[xc]='SlutprisSEK ' + str(int(tmpstr[8:-3].replace(' ', '')))\n              print('Process SLUTPRIS',linelast[xc],' ',tmpstr,' ',int(tmpstr[8:-3].replace(' ', '')),'\\n')\n            if linelast[xc].find('kr/m2')>=0:\n              tmpstr=linelast[xc]\n              linelast[xc]=str(int(tmpstr[:-6].replace(' ', '')))+' kr/m2'\n            if linelast[xc].find('kr/man')>=0:\n              tmpstr=linelast[xc]\n              linelast[xc]=str(int(tmpstr[:-7].replace(' ', '')))+' kr/man'\n            if linelast[xc].find('Bostadsrat')>=0:\n              tmpstr=linelast[xc].split(' ')\n              print(len(tmpstr),' ',tmpstr)\n              if len(tmpstr)>1:\n                linelast[xc]=\"\"\n                for ic in range(1,len(tmpstr)):\n                  linelast[xc]+=tmpstr[ic]\n            if linelast[xc].find(' tr')>=0:\n              tmpstr=linelast[xc].split(',')\n              print(len(tmpstr),' ',tmpstr)\n              if len(tmpstr)>1:\n                linelast[xc]=\"\"\n                for ic in range(0,len(tmpstr)-1):\n                  linelast[xc]+=tmpstr[ic]\n              print('NEW',linelast[xc])\n            if linelast[xc].find(' tr')>=0:\n              tmpstr=linelast[xc].split(' ')\n              print(len(tmpstr),' ',tmpstr)\n              if len(tmpstr)>1:\n                linelast[xc]=\"\"\n                for ic in range(0,len(tmpstr)-2):\n                  linelast[xc]+=tmpstr[ic]\n              print('NEW',linelast[xc])\n          #\n          cnt += 1\n          if lc<5:\n          #  lc += 1\n            fout.write(linelast[0]) # line1\n            fout.write(',')\n          fout.write(linelast[lc-4]) # line1\n          fout.write(',')\n          fout.write(linelast[lc-3]) # line2\n          fout.write(',')\n          fout.write(linelast[lc-2]) # line3\n          fout.write(',')\n          fout.write(linelast[lc-1])  #4\n          fout.write(',')\n          fout.write(linelast[lc])  #?\n          #fout.write(',')\n          #fout.write(lineout)  #5\n          #fout.write(',')\n          #fout.write(line6)  #6\n          #fout.write(',')\n          #fout.write(line7)  #7\n          #fout.write(',')\n          #fout.write(line8)  #8\n          #fout.write(',')\n          #fout.write(line9)  #9\n          #fout.write(',')\n          #fout.write(line10)  #10\n          fout.write(',')\n          fout.write(linelast[lc+1])  #10\n          fout.write(',')\n          fout.write(linelast[lc+2]) \n          fout.write(',')\n          fout.write(linelast[lc+3]) \n          fout.write(',')\n          fout.write(linelast[lc+4]) \n          #fout.write(',')\n          #fout.write(linelast[lc+5]) \n          fout.write('\\n')\n          if lc<5:\n            print('OUT',lc,' ',cnt,linelast[lc-5],linelast[lc-4],linelast[lc-3],linelast[lc-2],linelast[lc-1],linelast[lc],linelast[lc+1],linelast[lc+2],linelast[lc+3],linelast[lc+4])\n          else:\n            print('OUT',lc,' ',cnt,linelast[lc-4],linelast[lc-3],linelast[lc-2],linelast[lc-1],linelast[lc],linelast[lc+1],linelast[lc+2],linelast[lc+3],linelast[lc+4],linelast[+5])\n          lc = -1\n          linelast = [\"\" for x in range(22)] # reset\n          #\n          #f.close()\n          #fout.close()\n          #exit()\n        else:\n          lc +=1\n          linelast[lc]=line.replace('\\n', '')\n          #print(lc,'linelast',linelast[lc])\n  #\n  f.close()\n  fout.close()\n  return cnt\n"
        }, 
        {
            "execution_count": 10, 
            "cell_type": "code", 
            "metadata": {}, 
            "outputs": [
                {
                    "output_type": "stream", 
                    "name": "stdout", 
                    "text": "No of sales= 0\n"
                }
            ], 
            "source": "nsales=0  \n#nsales=hemnet2csv20('Hemnet_slutpriser_July2019_cleaned.txt', 'HemnetTable.txt')\n#nsales=hemnet2csv30('Hemnet_slutpriser_July2019_cleaned2.txt', 'HemnetTable.txt')\nprint('No of sales=',nsales)"
        }, 
        {
            "execution_count": 11, 
            "cell_type": "code", 
            "metadata": {}, 
            "outputs": [], 
            "source": "def deleteTrappa(str1):\n  # delete tr, in str1\n  txt=str1.split(',')\n  newtxt=txt[0]\n  for ic in range(1,len(txt)):\n    tmpstr=txt[ic].upper()\n    print('tmpstr ',tmpstr)\n    if len(tmpstr)>=2:\n      if (tmpstr[-2]=='T') and (tmpstr[-1]=='R') :\n        print('Remove tr ',tmpstr)\n      else:\n        newtxt+=','+txt[ic]\n  #\n  print('NEW ',newtxt)\n  return newtxt\n\n#newtrappa=deleteTrappa('Bergslagsvagen 76, 4tr,akeshov,Stockholm,64 m2   2 rum,3576 kr/man,SlutprisSEK 3195000,Sald 2 juli 2019,49922 kr/m2,,Fastighetsbyran Bromma')\n"
        }, 
        {
            "execution_count": 12, 
            "cell_type": "code", 
            "metadata": {}, 
            "outputs": [], 
            "source": "def deleteVaning(str1):\n  # delete tr, in str1\n  txt=str1.split(',')\n  newtxt=txt[0]\n  for ic in range(1,len(txt)):\n    tmpstr=txt[ic].upper()\n    print('tmpstr ',tmpstr)\n    if (tmpstr.find(' VAN')>=0):\n      print('Remove VAN ',tmpstr)\n    else:\n      newtxt+=','+txt[ic]\n  #\n  print('NEW ',newtxt)\n  return newtxt\n"
        }, 
        {
            "execution_count": 13, 
            "cell_type": "code", 
            "metadata": {}, 
            "outputs": [
                {
                    "output_type": "stream", 
                    "name": "stdout", 
                    "text": "Solving environment: done\n\n# All requested packages already installed.\n\n"
                }
            ], 
            "source": "!conda install -c conda-forge geopy --yes\nfrom geopy.geocoders import Nominatim # convert an address into latitude and longitude values\n\ndef GetLatLong(myaddress):\n    geolocator = Nominatim(user_agent=\"ny_explorer\")\n    location = geolocator.geocode(myaddress)\n    latitude = location.latitude\n    longitude = location.longitude\n    return latitude, longitude\n"
        }, 
        {
            "execution_count": 15, 
            "cell_type": "code", 
            "metadata": {}, 
            "outputs": [
                {
                    "output_type": "stream", 
                    "name": "stdout", 
                    "text": "The geograpical coordinate of Torsgatan 3, Stockholm, Sweden are 59.3458232, 18.034365.\n"
                }
            ], 
            "source": "# test geocoder\nstreetaddress= 'Torsgatan 3, Stockholm, Sweden'\nlatitude, longitude = GetLatLong(streetaddress)\nprint('The geograpical coordinate of {} are {}, {}.'.format(streetaddress, latitude, longitude))\n"
        }, 
        {
            "execution_count": 16, 
            "cell_type": "code", 
            "metadata": {}, 
            "outputs": [], 
            "source": "def hemnetlocationtable(fn1, fn2):\n  # Version 1.0\n  #\n# Fyrvaktarkroken 26, Fyrvaktarkroken 26,Blasut,Stockholm,47 m2   2 rum,3133 kr/man,SlutprisSEK 3100000,Sald 13 juli 2019,65957 kr/m2,+19 %,\n# Sibeliusgangen 50,Kista,Stockholm,80,9 m2   3 rum,4634 kr/man,SlutprisSEK 1995000,Sald 13 juli 2019,24660 kr/m2,,Notar\n  #\n  lc = -1\n  cnt = 0\n  with open(fn2,mode='w') as fout:\n    fout.write('Lat,Long,Street,PriceSEK,PriceSQM,Size')\n    fout.write(\"\\n\")\n    with open(fn1,mode='r') as f:\n      line  = f.readline().replace('\\n', '') # read first line - dummy line / comment\n      while line:\n        #line  = f.readline()\n        line  = f.readline().strip()\n        #line  = f.readline().replace('\\n', '')\n        if (line.find('tr,')>=0):\n          tmpline=line\n          line=deleteTrappa(tmpline)\n        #\n        line=line.upper()\n        #line=tmpline\n        if (line.find(' VAN')>=0):\n          line=deleteVaning(line)\n        #\n        #\n        print('LINE: ',line)\n        if (line.find('SLUTPRISSEK')>=0):\n          linelast = line.split(',')\n          #\n          if len(linelast)>3:\n             tmpstr=linelast[0]\n             if linelast[0].find(linelast[1])<0:\n               tmpstr+=','+linelast[1]\n               tmpstr+=','+linelast[2]+',Stockholm,Sweden'\n             else:\n               tmpstr+=','+linelast[2]\n               tmpstr+=','+linelast[3]+',Stockholm,Sweden'\n             #\n             #tmpstr+=','+linelast[3]+',Stockholm,Sweden'\n             #\n             # get geolocation\n             streetaddress=tmpstr\n             latitude=0.0\n             longitude=0.0\n             latitude, longitude = GetLatLong(streetaddress)\n             print('Address',streetaddress,latitude,longitude)\n          #\n          cnt += 1\n          #\n          fout.write(str(latitude)) # line1\n          fout.write(',')\n          fout.write(str(longitude)) # line2\n          fout.write(',')\n          fout.write(streetaddress) # line3\n          #\n          for xc in range(3,len(linelast)):\n            if (linelast[xc].find('SLUTPRISSEK')>=0):\n              fout.write(',')\n              fout.write(linelast[xc])\n              print(',',linelast[xc])\n            if (linelast[xc].find('KR/M2')>=0):\n              fout.write(',')\n              fout.write(linelast[xc])\n              print(',',linelast[xc])\n          fout.write('\\n')\n          #print('OUT',lc,' ',cnt,linelast[lc-4],linelast[lc-3],linelast[lc-2],linelast[lc-1],linelast[lc],linelast[lc+1],linelast[lc+2],linelast[lc+3],linelast[lc+4],linelast[+5])\n          #\n  #\n  f.close()\n  fout.close()\n  return cnt\n"
        }, 
        {
            "execution_count": 17, 
            "cell_type": "code", 
            "metadata": {}, 
            "outputs": [], 
            "source": "#"
        }, 
        {
            "execution_count": 18, 
            "cell_type": "code", 
            "metadata": {}, 
            "outputs": [], 
            "source": "# The code was removed by Watson Studio for sharing."
        }, 
        {
            "execution_count": 19, 
            "cell_type": "code", 
            "metadata": {}, 
            "outputs": [
                {
                    "output_type": "stream", 
                    "name": "stdout", 
                    "text": "No of street locations  0\n"
                }
            ], 
            "source": "nstreets=0\n#nstreets=hemnetlocationtable('HemnetTable.txt','HemnetGeoLocations.txt')\n\n# for IBM watson Studio\n#nstreets=hemnetlocationtable(HemnetTable_credentials,HemnetGeoLocations_credentials)\nprint('No of street locations ',nstreets)"
        }, 
        {
            "source": "## Test file access in IBM Watson Studio", 
            "cell_type": "markdown", 
            "metadata": {}
        }, 
        {
            "execution_count": 20, 
            "cell_type": "code", 
            "metadata": {}, 
            "outputs": [
                {
                    "execution_count": 20, 
                    "metadata": {}, 
                    "data": {
                        "text/plain": "<project_lib.utils.project_context.ProjectContext at 0x7ff63ef58278>"
                    }, 
                    "output_type": "execute_result"
                }
            ], 
            "source": "# The code was removed by Watson Studio for sharing."
        }, 
        {
            "execution_count": 22, 
            "cell_type": "code", 
            "metadata": {}, 
            "outputs": [
                {
                    "execution_count": 22, 
                    "metadata": {}, 
                    "data": {
                        "text/plain": "[{'file_content': <_io.BytesIO at 0x7ff63e0ccba0>,\n  'data_file_title': 'HemnetGeoLocations.txt'},\n {'file_content': <_io.BytesIO at 0x7ff63e0ccaf0>,\n  'data_file_title': 'data_profile_nlu/2019-07-16-18_14_23-nlu_776a5a44-fc1e-4d12-b2f2-e8ede33ed7ae.json'}]"
                    }, 
                    "output_type": "execute_result"
                }
            ], 
            "source": "# Fetch the file\nmy_file = project.get_file(\"HemnetGeoLocations.txt\")\n#my_file_url = project.get_file_url(\"HemnetGeoLocations.txt\")\nmy_file\n\n# Read the CSV data file from the object storage into a pandas DataFrame\n#my_file.seek(0)\n\n#import pandas as pd\n#df1=pd.read_csv(my_file)\n#df1=pd.read_csv(HemnetGeoLocations_credentials)\n\n#df1.show()"
        }, 
        {
            "execution_count": 32, 
            "cell_type": "code", 
            "metadata": {}, 
            "outputs": [
                {
                    "ename": "TypeError", 
                    "evalue": "read_html() got an unexpected keyword argument 'nrows'", 
                    "traceback": [
                        "\u001b[0;31m---------------------------------------------------------------------------\u001b[0m", 
                        "\u001b[0;31mTypeError\u001b[0m                                 Traceback (most recent call last)", 
                        "\u001b[0;32m<ipython-input-32-3c39dddf22b8>\u001b[0m in \u001b[0;36m<module>\u001b[0;34m\u001b[0m\n\u001b[1;32m      1\u001b[0m \u001b[0murl\u001b[0m\u001b[0;34m=\u001b[0m\u001b[0;34m\"https://github.com/KnarfSkidbacke/Coursera_Capstone/blob/master/HemnetGeoLocations.txt\"\u001b[0m\u001b[0;34m\u001b[0m\u001b[0;34m\u001b[0m\u001b[0m\n\u001b[0;32m----> 2\u001b[0;31m \u001b[0mgeoloc\u001b[0m\u001b[0;34m=\u001b[0m\u001b[0mpd\u001b[0m\u001b[0;34m.\u001b[0m\u001b[0mread_html\u001b[0m\u001b[0;34m(\u001b[0m\u001b[0murl\u001b[0m\u001b[0;34m,\u001b[0m\u001b[0mskiprows\u001b[0m\u001b[0;34m=\u001b[0m\u001b[0;34m[\u001b[0m\u001b[0;36m1\u001b[0m\u001b[0;34m]\u001b[0m\u001b[0;34m,\u001b[0m \u001b[0mheader\u001b[0m\u001b[0;34m=\u001b[0m\u001b[0;32mNone\u001b[0m\u001b[0;34m,\u001b[0m \u001b[0mnrows\u001b[0m\u001b[0;34m=\u001b[0m\u001b[0;36m20\u001b[0m\u001b[0;34m)\u001b[0m\u001b[0;34m\u001b[0m\u001b[0;34m\u001b[0m\u001b[0m\n\u001b[0m\u001b[1;32m      3\u001b[0m \u001b[0mgeoloc\u001b[0m\u001b[0;34m.\u001b[0m\u001b[0mhead\u001b[0m\u001b[0;34m(\u001b[0m\u001b[0;34m)\u001b[0m\u001b[0;34m\u001b[0m\u001b[0;34m\u001b[0m\u001b[0m\n", 
                        "\u001b[0;31mTypeError\u001b[0m: read_html() got an unexpected keyword argument 'nrows'"
                    ], 
                    "output_type": "error"
                }
            ], 
            "source": "url=\"https://github.com/KnarfSkidbacke/Coursera_Capstone/blob/master/HemnetGeoLocations.txt\"\ngeoloc=pd.read_csv(url,skiprows=[1], header=None, nrows=20)\ngeoloc.head()"
        }, 
        {
            "execution_count": 25, 
            "cell_type": "code", 
            "metadata": {}, 
            "outputs": [
                {
                    "ename": "TypeError", 
                    "evalue": "expected str, bytes or os.PathLike object, not list", 
                    "traceback": [
                        "\u001b[0;31m---------------------------------------------------------------------------\u001b[0m", 
                        "\u001b[0;31mTypeError\u001b[0m                                 Traceback (most recent call last)", 
                        "\u001b[0;32m<ipython-input-25-e5099b1de66a>\u001b[0m in \u001b[0;36m<module>\u001b[0;34m\u001b[0m\n\u001b[1;32m     15\u001b[0m \u001b[0;34m\u001b[0m\u001b[0m\n\u001b[1;32m     16\u001b[0m \u001b[0;31m#nlines=CountLines(HemnetTable_credentials)\u001b[0m\u001b[0;34m\u001b[0m\u001b[0;34m\u001b[0m\u001b[0;34m\u001b[0m\u001b[0m\n\u001b[0;32m---> 17\u001b[0;31m \u001b[0mnlines\u001b[0m\u001b[0;34m=\u001b[0m\u001b[0mCountLines\u001b[0m\u001b[0;34m(\u001b[0m\u001b[0mmy_file\u001b[0m\u001b[0;34m)\u001b[0m\u001b[0;34m\u001b[0m\u001b[0;34m\u001b[0m\u001b[0m\n\u001b[0m\u001b[1;32m     18\u001b[0m \u001b[0;34m\u001b[0m\u001b[0m\n\u001b[1;32m     19\u001b[0m \u001b[0;31m#print('Couted lines= ',nlines)\u001b[0m\u001b[0;34m\u001b[0m\u001b[0;34m\u001b[0m\u001b[0;34m\u001b[0m\u001b[0m\n", 
                        "\u001b[0;32m<ipython-input-25-e5099b1de66a>\u001b[0m in \u001b[0;36mCountLines\u001b[0;34m(fn)\u001b[0m\n\u001b[1;32m      1\u001b[0m \u001b[0;32mdef\u001b[0m \u001b[0mCountLines\u001b[0m\u001b[0;34m(\u001b[0m\u001b[0mfn\u001b[0m\u001b[0;34m)\u001b[0m\u001b[0;34m:\u001b[0m\u001b[0;34m\u001b[0m\u001b[0;34m\u001b[0m\u001b[0m\n\u001b[1;32m      2\u001b[0m   \u001b[0mcnt\u001b[0m \u001b[0;34m=\u001b[0m \u001b[0;36m0\u001b[0m\u001b[0;34m\u001b[0m\u001b[0;34m\u001b[0m\u001b[0m\n\u001b[0;32m----> 3\u001b[0;31m   \u001b[0;32mwith\u001b[0m \u001b[0mopen\u001b[0m\u001b[0;34m(\u001b[0m\u001b[0mfn\u001b[0m\u001b[0;34m,\u001b[0m\u001b[0;34m'r'\u001b[0m\u001b[0;34m)\u001b[0m \u001b[0;32mas\u001b[0m \u001b[0mf\u001b[0m\u001b[0;34m:\u001b[0m\u001b[0;34m\u001b[0m\u001b[0;34m\u001b[0m\u001b[0m\n\u001b[0m\u001b[1;32m      4\u001b[0m      \u001b[0mline\u001b[0m \u001b[0;34m=\u001b[0m \u001b[0mf\u001b[0m\u001b[0;34m.\u001b[0m\u001b[0mreadline\u001b[0m\u001b[0;34m(\u001b[0m\u001b[0;34m)\u001b[0m\u001b[0;34m\u001b[0m\u001b[0;34m\u001b[0m\u001b[0m\n\u001b[1;32m      5\u001b[0m      \u001b[0mdata\u001b[0m \u001b[0;34m=\u001b[0m \u001b[0mline\u001b[0m\u001b[0;34m.\u001b[0m\u001b[0mstrip\u001b[0m\u001b[0;34m(\u001b[0m\u001b[0;34m)\u001b[0m\u001b[0;34m.\u001b[0m\u001b[0msplit\u001b[0m\u001b[0;34m(\u001b[0m\u001b[0;34m','\u001b[0m\u001b[0;34m)\u001b[0m\u001b[0;34m\u001b[0m\u001b[0;34m\u001b[0m\u001b[0m\n", 
                        "\u001b[0;31mTypeError\u001b[0m: expected str, bytes or os.PathLike object, not list"
                    ], 
                    "output_type": "error"
                }
            ], 
            "source": "def CountLines(fn):\n  cnt = 0\n  with open(fn,'r') as f:\n     line = f.readline()\n     data = line.strip().split(',')\n     print(len(data))   \n     while line:\n       #print(\"Line {}: {}\".format(cnt, line.strip()))\n       #data = line.strip().split(',')[1:]\n       cnt += 1\n       line = f.readline() \n  f.close()\n  #print(cnt)\n  return cnt\n\n#nlines=CountLines(HemnetTable_credentials)\nnlines=CountLines(my_file)\n\n#print('Couted lines= ',nlines)"
        }, 
        {
            "execution_count": null, 
            "cell_type": "code", 
            "metadata": {}, 
            "outputs": [], 
            "source": ""
        }
    ], 
    "metadata": {
        "kernelspec": {
            "display_name": "Python 3.6", 
            "name": "python3", 
            "language": "python"
        }, 
        "language_info": {
            "mimetype": "text/x-python", 
            "nbconvert_exporter": "python", 
            "version": "3.6.8", 
            "name": "python", 
            "file_extension": ".py", 
            "pygments_lexer": "ipython3", 
            "codemirror_mode": {
                "version": 3, 
                "name": "ipython"
            }
        }
    }, 
    "nbformat": 4
}
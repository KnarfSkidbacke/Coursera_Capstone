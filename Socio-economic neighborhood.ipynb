{
    "nbformat_minor": 1, 
    "cells": [
        {
            "source": "## Socio economic environment evaluation of neighborhoods", 
            "cell_type": "markdown", 
            "metadata": {
                "collapsed": true
            }
        }, 
        {
            "source": "## Problem statement:\nCan the socio economic degree of a neighborhood be determined based on the number of coffee shops and pizza places ?\n", 
            "cell_type": "markdown", 
            "metadata": {}
        }, 
        {
            "source": "## Background information:\n\nGiven the rising cost of housing and apartments in todays major cities, at least in Stockholm, Sweden, a trend for smaller apartments and houses is seen. Also a trend of moving the living room to coffee shops can be noticed, in Stockholm Sweden, at least. As apartments/houses get smaller it is easier for people to meet in coffee shops instead.\n\nThe project will investigate the cost of housing/apartments and compare it to the number of coffee shops and pizza places in the surrounding area of major cities.\n\nThe goal is to be able to predict not only the cost of housing and apartments based on the availability of coffee shops and pizza places, but also correlate to the age of the people that live in the area defined by the number of coffee shops and pizza places. As we also want to be able to predict something about the age of people living in the neighborhood the project is about the social economic aspect of a neighborhood.", 
            "cell_type": "markdown", 
            "metadata": {}
        }, 
        {
            "source": "## Data usage:\nIf this project is to be successful data about housing and apartments cost as well as data about the age distribution over city areas must be available. If no real data is available some reasonable assumptions can be made.\n\nThe foursquare database will be used to determine the availability of coffee shops and pizza in city geolocations to be evaluated.\n\nThe cost of housing and apartments from some cities will be searched for.\n\nAlso data about the demographic age distribution in major cities will be researched.\n\nThe cost of housing will be defined as cost per square meter \u2013 in USD, thus USD/m2. For European costs a fixed exchange rate will be used. The exchange rate will be determined in relation to the available cost data and which time/date range is being covered. The data should not be older than 3 years. \n\nIf no relevant current housing cost statistics data are available, cost based on real estate agency pricing can be used.\nAs we are really interested in the social economic aspects of locations, the income distribution of a city area can also be used instead of housing cost.\n\nIn this project the data for the following cities will be used New York, Toronto, Stockholm as a first trail. The data will be used to investigate and analyze the project goals using a borough level resolution.\n\nAs foursquare data does not really have an age pedigree, it must be determined to be correct as of today, thus the cost and demographic data should be as close to today as possible.", 
            "cell_type": "markdown", 
            "metadata": {}
        }, 
        {
            "execution_count": null, 
            "cell_type": "code", 
            "metadata": {}, 
            "outputs": [], 
            "source": ""
        }
    ], 
    "metadata": {
        "kernelspec": {
            "display_name": "Python 3.6", 
            "name": "python3", 
            "language": "python"
        }, 
        "language_info": {
            "mimetype": "text/x-python", 
            "nbconvert_exporter": "python", 
            "version": "3.6.8", 
            "name": "python", 
            "file_extension": ".py", 
            "pygments_lexer": "ipython3", 
            "codemirror_mode": {
                "version": 3, 
                "name": "ipython"
            }
        }
    }, 
    "nbformat": 4
}
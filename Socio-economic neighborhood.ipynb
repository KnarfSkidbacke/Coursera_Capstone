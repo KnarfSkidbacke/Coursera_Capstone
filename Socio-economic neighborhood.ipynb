{
    "nbformat_minor": 1, 
    "cells": [
        {
            "source": "## Socio economic environment evaluation of neighborhoods", 
            "cell_type": "markdown", 
            "metadata": {
                "collapsed": true
            }
        }, 
        {
            "source": "## Problem statement:\nCan the socio economic degree of a neighborhood be determined based on the number of coffee shops and pizza places ?\n", 
            "cell_type": "markdown", 
            "metadata": {}
        }, 
        {
            "source": "## Background information:\n\nGiven the rising cost of housing and apartments in todays major cities, at least in Stockholm, Sweden, a trend for smaller apartments and houses is seen. Also a trend of moving the living room to coffee shops can be noticed, in Stockholm Sweden, at least. As apartments/houses get smaller it is easier for people to meet in coffee shops instead.\n\nThe project will investigate the cost of housing/apartments and compare it to the number of coffee shops and pizza places in the surrounding area of major cities.\n\nThe goal is to be able to predict not only the cost of housing and apartments based on the availability of coffee shops and pizza places, but also correlate to the age of the people that live in the area defined by the number of coffee shops and pizza places. As we also want to be able to predict something about the age of people living in the neighborhood the project is about the social economic aspect of a neighborhood.", 
            "cell_type": "markdown", 
            "metadata": {}
        }, 
        {
            "source": "## Data usage:\nIf this project is to be successful data about housing and apartments cost as well as data about the age distribution over city areas must be available. If no real data is available some reasonable assumptions can be made.\n\nThe foursquare database will be used to determine the availability of coffee shops and pizza in city geolocations to be evaluated.\n\nThe cost of housing and apartments from some cities will be searched for.\n\nAlso data about the demographic age distribution in major cities will be researched.\n\nThe cost of housing will be defined as cost per square meter \u2013 in USD, thus USD/m2. For European costs a fixed exchange rate will be used. The exchange rate will be determined in relation to the available cost data and which time/date range is being covered. The data should not be older than 3 years. \n\nIf no relevant current housing cost statistics data are available, cost based on real estate agency pricing can be used.\nAs we are really interested in the social economic aspects of locations, the income distribution of a city area can also be used instead of housing cost.\n\nIn this project the data for the following cities will be used New York, Toronto, Stockholm as a first trail. The data will be used to investigate and analyze the project goals using a borough level resolution.\n\nAs foursquare data does not really have an age pedigree, it must be determined to be correct as of today, thus the cost and demographic data should be as close to today as possible.", 
            "cell_type": "markdown", 
            "metadata": {}
        }, 
        {
            "source": "## Data processing - description", 
            "cell_type": "markdown", 
            "metadata": {}
        }, 
        {
            "source": "Area in the coming context is either a borough or a neighborhood, because the resolution of this data analysis depends a lot on the data being available for wealthness/richness and age, a to geographic distribution. Also if thinking of neighborhoods it may be difficult to get this kind of resolution, why I may use indirect wealthness data such as housing/apartment cost.\nThe data as have been processed in the New York and Toronto neighborhood segmentation projects will be reused.\nSpecifically the foursquare data will be used as outlined in the steps below.\n\nThe result should be a table listing;\nTown, Area (=Borough or neighborhood), Lat, Long, NoCoffeeShops, NoPizzaPlaces, CoffePizzaWealthIndex (=Ratio NoPizzaPlaces / NoCoffeeShops),  AverageAge (of people living in the Area), Wealthness ( as average income, or something similar) ", 
            "cell_type": "markdown", 
            "metadata": {}
        }, 
        {
            "source": "## Step 1 \u2013 Location of coffee shops and pizza places", 
            "cell_type": "markdown", 
            "metadata": {}
        }, 
        {
            "source": "Generate data for each area about the number of Coffee shops and Pizza places, using foursquare and a radius limit of 564 m. The radius limit of 564m (0.564km) will give an area coverage of the search for coffee shops and pizza places of 1 km2 (1 square kilometer).\nCheck the areas being investigated to have an internal distance of at least 1129 m (=2*0.564).\nForesquare uses a uniq Categories.ID in its searches and results;\nCoffee shops = \nPizza Places =\nAlso Foursquare has a venue search parameter \u201csection\u201d which may be used for coffee \u2013 maybe pizza.\nOnce the data is extracted it must be counted for coffee shops and pizza places per area.", 
            "cell_type": "markdown", 
            "metadata": {}
        }, 
        {
            "source": "## Step 2 Wealth data for geographic locations", 
            "cell_type": "markdown", 
            "metadata": {}
        }, 
        {
            "source": "The wealth data can, as has been said before, either be the income, income tax or cost of housing / apartment rental, dependent on the availability.\nFor New York and Toronto some maps appear to be available \u2013 unfortunately the data seems hidden thus I may try using the picture files to do some data mapping.\nAlso some of the data seems older \u2013 the older the data is the better is its availability. However if tabulated data is found I may use some correction factor derived from hosing prices to normalize the data towards todays cost/worth.\nAlso as we are interested in a general wealth of an area we might as well use older data, as the probability of significant change over time (of for example 10 years) is normally low.", 
            "cell_type": "markdown", 
            "metadata": {}
        }, 
        {
            "source": "## Step 3 Age distribution for geographic locations", 
            "cell_type": "markdown", 
            "metadata": {}
        }, 
        {
            "source": "Find data that can be used, which has the right geographic resolution may be difficult.\n\nOne idea is that younger people up to say 30, not having a family may go out and meet there friends in coffee shops, rather than meeting at there small home. Of course this assumes you have enough money to go out, but then again pizza places may also come in handy to visit.\n\nThat\u2019s why this project is called socio economic which is fluffy on purpose.", 
            "cell_type": "markdown", 
            "metadata": {}
        }, 
        {
            "source": "## Step 4 Combine and visualize", 
            "cell_type": "markdown", 
            "metadata": {}
        }, 
        {
            "source": "As mentioned before the data will be combined into a single table, see above.\n\nIn order to be able to connect to the initial question the  results will be visualized in a figures and if suitable data has been found in maps.\n\nFigure 4a. wealth vs CoffeePizzaIndex (area) <=Ratio NoPizzaPlaces / NoCoffeeShops dependent on area\nFigure 4b. age vs CoffeePizzaIndex(area)  <=Ratio NoPizzaPlaces / NoCoffeeShops dependent on area\n\nMap41 showing the area wealth and CoffeePizzaIndex(area) \nMap42 showing the area age and CoffeePizzaIndex(area)\n\nNOTE: The visualization dependents of course on the data availability in a resolution being suitable for visualization.", 
            "cell_type": "markdown", 
            "metadata": {}
        }, 
        {
            "source": "## Step 5 Result discussion", 
            "cell_type": "markdown", 
            "metadata": {}
        }, 
        {
            "source": "Some discussion of the results. The uncertainties and assumptions and improvement potentials.", 
            "cell_type": "markdown", 
            "metadata": {}
        }, 
        {
            "execution_count": null, 
            "cell_type": "code", 
            "metadata": {}, 
            "outputs": [], 
            "source": ""
        }
    ], 
    "metadata": {
        "kernelspec": {
            "display_name": "Python 3.6", 
            "name": "python3", 
            "language": "python"
        }, 
        "language_info": {
            "mimetype": "text/x-python", 
            "nbconvert_exporter": "python", 
            "version": "3.6.8", 
            "name": "python", 
            "file_extension": ".py", 
            "pygments_lexer": "ipython3", 
            "codemirror_mode": {
                "version": 3, 
                "name": "ipython"
            }
        }
    }, 
    "nbformat": 4
}